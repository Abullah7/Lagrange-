{
 "cells": [
  {
   "cell_type": "code",
   "execution_count": 5,
   "id": "149b252a",
   "metadata": {},
   "outputs": [],
   "source": [
    "#import Libraries\n",
    "import sympy as sp\n",
    "import numpy as np\n",
    "\n",
    "def lagrange_opt_mixed(of, equality_constraints, inequality_constraints, maximize=False):\n",
    "    \"\"\"\n",
    "    Implements Lagrange multiplier for optimization problem with mixed constraints.\n",
    "\n",
    "    Parameters:\n",
    "        of (string): Objective function.\n",
    "        equality_constraints (list): Equality constraints.\n",
    "        inequality_constraints (list): Inequality constraints in the form `h(x, y) <= 0`.\n",
    "        maximize (boolean): Default value is False.\n",
    "\n",
    "    Returns:\n",
    "        optimal (tuple): Optimal solution (x, y).\n",
    "    \"\"\"\n",
    "    # Define the objective function\n",
    "    f = sp.sympify(of)\n",
    "    \n",
    "    # Define the list of equality constraints\n",
    "    equality_constraints_list = [sp.sympify(eq) for eq in equality_constraints]\n",
    "\n",
    "    # Define the list of inequality constraints\n",
    "    inequality_constraints_list = [sp.sympify(con) for con in inequality_constraints]\n",
    "\n",
    "    # Define Lagrange multipliers for equality constraints\n",
    "    lagrange_multipliers_eq = [sp.symbols(f'lambda_eq{i}') for i in range(len(equality_constraints_list))]\n",
    "\n",
    "    # Define Lagrange multipliers for inequality constraints\n",
    "    lagrange_multipliers_ineq = [sp.symbols(f'lambda_ineq{i}') for i in range(len(inequality_constraints_list))]\n",
    "\n",
    "    # Define the Lagrangian function\n",
    "    lagrangian_eq = f + sum([lam * eq for lam, eq in zip(lagrange_multipliers_eq, equality_constraints_list)])\n",
    "    lagrangian_ineq = lagrangian_eq + sum([lam * con for lam, con in zip(lagrange_multipliers_ineq, inequality_constraints_list)])\n",
    "    \n",
    "    variables = [sp.symbols('x'), sp.symbols('y')]\n",
    "    lagrange_vars_eq = lagrange_multipliers_eq\n",
    "    lagrange_vars_ineq = lagrange_multipliers_ineq\n",
    "\n",
    "    # Compute gradients w.r.t. the variables\n",
    "    gradients = [sp.diff(lagrangian_ineq, var) for var in variables]\n",
    "    \n",
    "    eqs = gradients + [lam_eq * eq for lam_eq, eq in zip(lagrange_multipliers_eq, equality_constraints_list)] + \\\n",
    "          [lam_ineq * con for lam_ineq, con in zip(lagrange_multipliers_ineq, inequality_constraints_list)]\n",
    "    \n",
    "    varss = variables + lagrange_vars_eq + lagrange_vars_ineq\n",
    "\n",
    "    # Solve the system of equations\n",
    "    solution = sp.solve(eqs, varss)\n",
    "    \n",
    "    # Extract x, y values from solutions\n",
    "    points = [(point[0], point[1]) for point in solution]\n",
    "    \n",
    "    # Remove the points that don't satisfy the lambda conditions for inequalities\n",
    "    final_points = []\n",
    "    if maximize:\n",
    "        for sol in points:\n",
    "            lambdas = sol[2+len(equality_constraints_list):]\n",
    "            if all(con <= 0 and lam >= 0 for con, lam in zip(inequality_constraints_list, lambdas)):\n",
    "                final_points.append((sol[0], sol[1]))\n",
    "    else:\n",
    "        for sol in points:\n",
    "            lambdas = sol[2+len(equality_constraints_list):]\n",
    "            if all(con <= 0 and lam <= 0 for con, lam in zip(inequality_constraints_list, lambdas)):\n",
    "                final_points.append((sol[0], sol[1]))\n",
    "\n",
    "    # Remove the points that don't satisfy the equality constraints\n",
    "    final_points_eq = []\n",
    "    for point in final_points:\n",
    "        satisfies_equality_constraints = all(eq.subs({sp.symbols('x'): point[0], sp.symbols('y'): point[1]}) == 0\n",
    "                                             for eq in equality_constraints_list)\n",
    "        if satisfies_equality_constraints:\n",
    "            final_points_eq.append(point)\n",
    "\n",
    "    # Get the point which minimizes/maximizes the function\n",
    "    if maximize:\n",
    "        optimal = (\n",
    "        final_points_eq[np.argmax([f.subs({sp.symbols('x'): point[0], sp.symbols('y'): point[1]}) for point in final_points_eq])])\n",
    "    else:\n",
    "        optimal = (\n",
    "        final_points_eq[np.argmin([f.subs({sp.symbols('x'): point[0], sp.symbols('y'): point[1]}) for point in final_points_eq])])\n",
    "\n",
    "    return optimal\n",
    "\n",
    "\n"
   ]
  },
  {
   "cell_type": "code",
   "execution_count": 6,
   "id": "545993c0",
   "metadata": {},
   "outputs": [
    {
     "name": "stdout",
     "output_type": "stream",
     "text": [
      "Optimal solution: (1/3, -2/3)\n"
     ]
    }
   ],
   "source": [
    "#Example 1 in the sheet\n",
    "objective_function = 'x**2 - y**2'\n",
    "constraints_equality = ['x + 2*y + 1']\n",
    "constraints_inequality = ['x - y - 3']\n",
    "\n",
    "solution = lagrange_opt_mixed(objective_function, constraints_equality, constraints_inequality)\n",
    "print(\"Optimal solution:\", solution)"
   ]
  },
  {
   "cell_type": "code",
   "execution_count": 7,
   "id": "cc2febc8",
   "metadata": {},
   "outputs": [
    {
     "name": "stdout",
     "output_type": "stream",
     "text": [
      "Optimal solution: (1/2, 3/2)\n"
     ]
    }
   ],
   "source": [
    "#Example 2 in the sheet\n",
    "objective_function = '(x-1)**2 + y-2'\n",
    "constraints_equality = ['y - x - 1']\n",
    "constraints_inequality = ['x + y - 2']\n",
    "\n",
    "solution = lagrange_opt_mixed(objective_function, constraints_equality, constraints_inequality)\n",
    "print(\"Optimal solution:\", solution)"
   ]
  },
  {
   "cell_type": "code",
   "execution_count": null,
   "id": "c90170ba",
   "metadata": {},
   "outputs": [],
   "source": []
  }
 ],
 "metadata": {
  "kernelspec": {
   "display_name": "Python 3 (ipykernel)",
   "language": "python",
   "name": "python3"
  },
  "language_info": {
   "codemirror_mode": {
    "name": "ipython",
    "version": 3
   },
   "file_extension": ".py",
   "mimetype": "text/x-python",
   "name": "python",
   "nbconvert_exporter": "python",
   "pygments_lexer": "ipython3",
   "version": "3.11.5"
  }
 },
 "nbformat": 4,
 "nbformat_minor": 5
}
